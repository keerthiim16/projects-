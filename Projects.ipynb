{
 "cells": [
  {
   "cell_type": "markdown",
   "id": "62958969",
   "metadata": {},
   "source": [
    "# Simple calculator project in python using Tkinter Library\n"
   ]
  },
  {
   "cell_type": "code",
   "execution_count": 24,
   "id": "69f1cd17",
   "metadata": {},
   "outputs": [],
   "source": [
    "from tkinter import *\n",
    "\n",
    "# Global variable to store the expression\n",
    "expression = \"\"\n",
    "\n",
    "def press(num):\n",
    "    \"\"\"Update the expression in the text entry box.\"\"\"\n",
    "    global expression\n",
    "    expression += str(num)\n",
    "    equation.set(expression)\n",
    "\n",
    "def equalpress():\n",
    "    \"\"\"Evaluate the final expression.\"\"\"\n",
    "    global expression\n",
    "    try:\n",
    "        total = str(eval(expression))  # Evaluate the expression\n",
    "        equation.set(total)\n",
    "        expression = \"\"  # Reset expression after calculation\n",
    "    except Exception:\n",
    "        equation.set(\"Error\")\n",
    "        expression = \"\"\n",
    "\n",
    "def clear():\n",
    "    \n",
    "    \"\"\"Clear the contents of the text entry box.\"\"\"\n",
    "    global expression\n",
    "    expression = \"\"\n",
    "    equation.set(\"\")\n",
    "\n",
    "if __name__ == \"__main__\":\n",
    "    # Create a GUI window\n",
    "    gui = Tk()\n",
    "    gui.configure(background=\"light green\")\n",
    "    gui.title(\"Simple Calculator\")\n",
    "    gui.geometry(\"270x200\")\n",
    "\n",
    "    equation = StringVar()  # Variable to hold the expression\n",
    "\n",
    "    # Create the text entry box for showing the expression\n",
    "    expression_field = Entry(gui, textvariable=equation, font=(\"Arial\", 14))\n",
    "    expression_field.grid(columnspan=4, ipadx=50, ipady=10)\n",
    "\n",
    "    # Create buttons for digits and operations\n",
    "    buttons = [\n",
    "        ('1', 2, 0), ('2', 2, 1), ('3', 2, 2), ('+', 2, 3),\n",
    "        ('4', 3, 0), ('5', 3, 1), ('6', 3, 2), ('-', 3, 3),\n",
    "        ('7', 4, 0), ('8', 4, 1), ('9', 4, 2), ('*', 4, 3),\n",
    "        ('0', 5, 0), ('.', 5, 1), ('=', 5, 2), ('/', 5, 3),\n",
    "        ('Clear', 6, 0)\n",
    "    ]\n",
    "\n",
    "    for (text, row, col) in buttons:\n",
    "        if text == '=':\n",
    "            Button(gui, text=text, command=equalpress, height=1, width=7).grid(row=row, column=col)\n",
    "        elif text == 'Clear':\n",
    "            Button(gui, text=text, command=clear, height=1, width=7).grid(row=row, column=col)\n",
    "        else:\n",
    "            Button(gui, text=text, command=lambda t=text: press(t), height=1, width=7).grid(row=row, column=col)\n",
    "\n",
    "    # Start the GUI\n",
    "    gui.mainloop()"
   ]
  },
  {
   "cell_type": "code",
   "execution_count": null,
   "id": "8ca5e134",
   "metadata": {},
   "outputs": [],
   "source": []
  }
 ],
 "metadata": {
  "kernelspec": {
   "display_name": "Python 3 (ipykernel)",
   "language": "python",
   "name": "python3"
  },
  "language_info": {
   "codemirror_mode": {
    "name": "ipython",
    "version": 3
   },
   "file_extension": ".py",
   "mimetype": "text/x-python",
   "name": "python",
   "nbconvert_exporter": "python",
   "pygments_lexer": "ipython3",
   "version": "3.10.9"
  }
 },
 "nbformat": 4,
 "nbformat_minor": 5
}
